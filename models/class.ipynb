{
 "cells": [
  {
   "cell_type": "code",
   "execution_count": 231,
   "metadata": {},
   "outputs": [],
   "source": [
    "import pandas as pd\n",
    "import numpy as np"
   ]
  },
  {
   "cell_type": "code",
   "execution_count": 232,
   "metadata": {},
   "outputs": [],
   "source": [
    "df = pd.read_csv('/Users/leona/OneDrive/Documentos/GitHub/Stellar-Classification/data/star_classification.csv')"
   ]
  },
  {
   "cell_type": "code",
   "execution_count": 233,
   "metadata": {},
   "outputs": [],
   "source": [
    "df.drop(columns=['obj_ID', 'rerun_ID', 'run_ID', 'field_ID', 'spec_obj_ID', 'fiber_ID', 'plate', 'cam_col', 'MJD'], axis=1, inplace=True)"
   ]
  },
  {
   "cell_type": "code",
   "execution_count": 234,
   "metadata": {},
   "outputs": [
    {
     "name": "stdout",
     "output_type": "stream",
     "text": [
      "(100000, 8) (100000,)\n"
     ]
    }
   ],
   "source": [
    "x = df.drop('class', axis=1)\n",
    "y = df['class']\n",
    "print(x.shape, y.shape)"
   ]
  },
  {
   "cell_type": "code",
   "execution_count": 235,
   "metadata": {},
   "outputs": [],
   "source": [
    "from sklearn.preprocessing import LabelEncoder"
   ]
  },
  {
   "cell_type": "code",
   "execution_count": 236,
   "metadata": {},
   "outputs": [],
   "source": [
    "le = LabelEncoder()\n",
    "y = le.fit_transform(y)"
   ]
  },
  {
   "cell_type": "code",
   "execution_count": 237,
   "metadata": {},
   "outputs": [],
   "source": [
    "from sklearn.feature_selection import SelectKBest, f_classif"
   ]
  },
  {
   "cell_type": "code",
   "execution_count": 238,
   "metadata": {},
   "outputs": [
    {
     "name": "stdout",
     "output_type": "stream",
     "text": [
      "Score: [2.19488222e+01 2.17588357e+02 3.04453390e+01 2.59625226e+01\n",
      " 4.58453336e+03 8.28234355e+03 3.23283079e+01 8.34294190e+04]\n",
      "Result of this transformation: [[20.39501   19.16573    0.6347936]\n",
      " [22.58444   21.16812    0.779136 ]\n",
      " [20.60976   19.34857    0.6441945]\n",
      " ...\n",
      " [18.20428   17.69034    0.1433656]\n",
      " [19.91386   19.07254    0.4550396]\n",
      " [20.60115   20.00959    0.5429442]]\n"
     ]
    }
   ],
   "source": [
    "algorithm = SelectKBest(score_func=f_classif, k=3)\n",
    "x_bests = algorithm.fit_transform(x, y)\n",
    "\n",
    "print(f'Score: {algorithm.scores_}')\n",
    "print(f'Result of this transformation: {x_bests}')"
   ]
  },
  {
   "cell_type": "code",
   "execution_count": 239,
   "metadata": {},
   "outputs": [],
   "source": [
    "from sklearn.linear_model import LogisticRegression\n",
    "from sklearn.neighbors import KNeighborsClassifier\n",
    "from sklearn.tree import DecisionTreeClassifier\n",
    "from sklearn.ensemble import RandomForestClassifier, GradientBoostingClassifier\n",
    "from sklearn.model_selection import train_test_split\n",
    "from sklearn.metrics import confusion_matrix, recall_score, f1_score, precision_score\n",
    "from sklearn.preprocessing import StandardScaler"
   ]
  },
  {
   "cell_type": "code",
   "execution_count": 240,
   "metadata": {},
   "outputs": [],
   "source": [
    "norm = StandardScaler()\n",
    "x_norm = norm.fit_transform(x_bests)"
   ]
  },
  {
   "cell_type": "code",
   "execution_count": 241,
   "metadata": {},
   "outputs": [],
   "source": [
    "x_train, x_test, y_train, y_test = train_test_split(x_norm, y, test_size=0.30, shuffle=True, random_state=15)"
   ]
  },
  {
   "cell_type": "code",
   "execution_count": 242,
   "metadata": {},
   "outputs": [
    {
     "name": "stdout",
     "output_type": "stream",
     "text": [
      "0.9463666666666667\n"
     ]
    }
   ],
   "source": [
    "logistic = LogisticRegression(max_iter=2000, tol=0.01)\n",
    "logistic.fit(x_train, y_train)\n",
    "\n",
    "accuracy_logistic = logistic.score(x_test, y_test)\n",
    "print(accuracy_logistic)"
   ]
  },
  {
   "cell_type": "code",
   "execution_count": 243,
   "metadata": {},
   "outputs": [
    {
     "name": "stdout",
     "output_type": "stream",
     "text": [
      "[[17102   273   591]\n",
      " [  725  4814     6]\n",
      " [    2    12  6475]]\n"
     ]
    }
   ],
   "source": [
    "prediction_logistic = logistic.predict(x_test)\n",
    "matrix_logistic = confusion_matrix(y_test, prediction_logistic)\n",
    "recall_logistic = recall_score(y_test, prediction_logistic, average='macro')\n",
    "precision_logistic = precision_score(y_test, prediction_logistic, average='macro')\n",
    "f1_logistic = f1_score(y_test, prediction_logistic, average='macro')\n",
    "\n",
    "print(matrix_logistic)"
   ]
  },
  {
   "cell_type": "code",
   "execution_count": 244,
   "metadata": {},
   "outputs": [
    {
     "name": "stdout",
     "output_type": "stream",
     "text": [
      "0.9633333333333334\n"
     ]
    }
   ],
   "source": [
    "neighbors = KNeighborsClassifier()\n",
    "neighbors.fit(x_train, y_train)\n",
    "\n",
    "accuracy_neighbors = neighbors.score(x_test, y_test)\n",
    "print(accuracy_neighbors)"
   ]
  },
  {
   "cell_type": "code",
   "execution_count": 245,
   "metadata": {},
   "outputs": [
    {
     "name": "stdout",
     "output_type": "stream",
     "text": [
      "[[17377   274   315]\n",
      " [  479  5061     5]\n",
      " [   27     0  6462]]\n"
     ]
    }
   ],
   "source": [
    "prediction_neighbors = neighbors.predict(x_test)\n",
    "matrix_neighbors = confusion_matrix(y_test, prediction_neighbors)\n",
    "precision_neighbors = precision_score(y_test, prediction_neighbors, average='macro')\n",
    "recall_neighbors = recall_score(y_test, prediction_neighbors, average='macro')\n",
    "f1_neighbors = f1_score(y_test, prediction_neighbors, average='macro')\n",
    "\n",
    "print(matrix_neighbors)"
   ]
  },
  {
   "cell_type": "code",
   "execution_count": 246,
   "metadata": {},
   "outputs": [
    {
     "name": "stdout",
     "output_type": "stream",
     "text": [
      "0.9594333333333334\n"
     ]
    }
   ],
   "source": [
    "tree = DecisionTreeClassifier()\n",
    "tree.fit(x_train, y_train)\n",
    "\n",
    "accuracy_tree = tree.score(x_test, y_test)\n",
    "print(accuracy_tree)"
   ]
  },
  {
   "cell_type": "code",
   "execution_count": 247,
   "metadata": {},
   "outputs": [
    {
     "name": "stdout",
     "output_type": "stream",
     "text": [
      "[[17340   603    23]\n",
      " [  566  4978     1]\n",
      " [   24     0  6465]]\n"
     ]
    }
   ],
   "source": [
    "prediction_tree = tree.predict(x_test)\n",
    "matrix_tree = confusion_matrix(y_test, prediction_tree)\n",
    "precision_tree = precision_score(y_test, prediction_tree, average='macro')\n",
    "recall_tree = recall_score(y_test, prediction_tree, average='macro')\n",
    "f1_tree = f1_score(y_test, prediction_tree, average='macro')\n",
    "\n",
    "print(matrix_tree)"
   ]
  },
  {
   "cell_type": "code",
   "execution_count": 248,
   "metadata": {},
   "outputs": [
    {
     "name": "stdout",
     "output_type": "stream",
     "text": [
      "0.9749\n"
     ]
    }
   ],
   "source": [
    "random = RandomForestClassifier()\n",
    "random.fit(x_train, y_train)\n",
    "\n",
    "accuracy_random = random.score(x_test, y_test)\n",
    "print(accuracy_random)"
   ]
  },
  {
   "cell_type": "code",
   "execution_count": 249,
   "metadata": {},
   "outputs": [
    {
     "name": "stdout",
     "output_type": "stream",
     "text": [
      "[[17697   248    21]\n",
      " [  477  5067     1]\n",
      " [    6     0  6483]]\n"
     ]
    }
   ],
   "source": [
    "prediction_random = random.predict(x_test)\n",
    "matrix_random = confusion_matrix(y_test, prediction_random)\n",
    "precision_random = precision_score(y_test, prediction_random, average='macro')\n",
    "recall_random = recall_score(y_test, prediction_random, average='macro')\n",
    "f1_random = f1_score(y_test, prediction_random, average='macro')\n",
    "\n",
    "print(matrix_random)"
   ]
  },
  {
   "cell_type": "code",
   "execution_count": 254,
   "metadata": {},
   "outputs": [
    {
     "name": "stdout",
     "output_type": "stream",
     "text": [
      "0.9694\n"
     ]
    }
   ],
   "source": [
    "boosting = GradientBoostingClassifier()\n",
    "boosting.fit(x_train, y_train)\n",
    "\n",
    "accuracy_boosting = boosting.score(x_test, y_test)\n",
    "print(accuracy_boosting)"
   ]
  },
  {
   "cell_type": "code",
   "execution_count": 255,
   "metadata": {},
   "outputs": [
    {
     "name": "stdout",
     "output_type": "stream",
     "text": [
      "[[17754   191    21]\n",
      " [  689  4855     1]\n",
      " [   16     0  6473]]\n"
     ]
    }
   ],
   "source": [
    "prediction_boosting = boosting.predict(x_test)\n",
    "matrix_boosting = confusion_matrix(y_test, prediction_boosting)\n",
    "precision_boosting = precision_score(y_test, prediction_boosting, average='macro')\n",
    "recall_boosting = recall_score(y_test, prediction_boosting, average='macro')\n",
    "f1_boosting = f1_score(y_test, prediction_boosting, average='macro')\n",
    "\n",
    "print(matrix_boosting)"
   ]
  },
  {
   "cell_type": "code",
   "execution_count": 256,
   "metadata": {},
   "outputs": [],
   "source": [
    "scores = {\n",
    "    'Models': ['Logistic Regression', 'KNeighbors Classifier', 'Decision Tree Classifier', 'Random Forest Classifier', 'Gradient Boosting Classifier'],\n",
    "    'Accuracy': [accuracy_logistic, accuracy_neighbors, accuracy_tree, accuracy_random, accuracy_boosting],\n",
    "    'Presicion': [precision_logistic, precision_neighbors, precision_tree, precision_random, precision_boosting],\n",
    "    'Recall': [recall_logistic, recall_neighbors, recall_tree, recall_random, recall_boosting],\n",
    "    'F1_score': [f1_logistic, f1_neighbors, f1_tree, f1_random, f1_boosting]\n",
    "}"
   ]
  },
  {
   "cell_type": "code",
   "execution_count": 258,
   "metadata": {},
   "outputs": [
    {
     "data": {
      "text/html": [
       "<div>\n",
       "<style scoped>\n",
       "    .dataframe tbody tr th:only-of-type {\n",
       "        vertical-align: middle;\n",
       "    }\n",
       "\n",
       "    .dataframe tbody tr th {\n",
       "        vertical-align: top;\n",
       "    }\n",
       "\n",
       "    .dataframe thead th {\n",
       "        text-align: right;\n",
       "    }\n",
       "</style>\n",
       "<table border=\"1\" class=\"dataframe\">\n",
       "  <thead>\n",
       "    <tr style=\"text-align: right;\">\n",
       "      <th></th>\n",
       "      <th>Models</th>\n",
       "      <th>Accuracy</th>\n",
       "      <th>Presicion</th>\n",
       "      <th>Recall</th>\n",
       "      <th>F1_score</th>\n",
       "    </tr>\n",
       "  </thead>\n",
       "  <tbody>\n",
       "    <tr>\n",
       "      <th>0</th>\n",
       "      <td>Logistic Regression</td>\n",
       "      <td>0.946367</td>\n",
       "      <td>0.939638</td>\n",
       "      <td>0.939307</td>\n",
       "      <td>0.938348</td>\n",
       "    </tr>\n",
       "    <tr>\n",
       "      <th>1</th>\n",
       "      <td>KNeighbors Classifier</td>\n",
       "      <td>0.963333</td>\n",
       "      <td>0.957721</td>\n",
       "      <td>0.958590</td>\n",
       "      <td>0.957880</td>\n",
       "    </tr>\n",
       "    <tr>\n",
       "      <th>2</th>\n",
       "      <td>Decision Tree Classifier</td>\n",
       "      <td>0.959433</td>\n",
       "      <td>0.951784</td>\n",
       "      <td>0.953068</td>\n",
       "      <td>0.952422</td>\n",
       "    </tr>\n",
       "    <tr>\n",
       "      <th>3</th>\n",
       "      <td>Random Forest Classifier</td>\n",
       "      <td>0.974900</td>\n",
       "      <td>0.974463</td>\n",
       "      <td>0.965966</td>\n",
       "      <td>0.970063</td>\n",
       "    </tr>\n",
       "    <tr>\n",
       "      <th>4</th>\n",
       "      <td>Gradient Boosting Classifier</td>\n",
       "      <td>0.969400</td>\n",
       "      <td>0.973523</td>\n",
       "      <td>0.953766</td>\n",
       "      <td>0.962905</td>\n",
       "    </tr>\n",
       "  </tbody>\n",
       "</table>\n",
       "</div>"
      ],
      "text/plain": [
       "                         Models  Accuracy  Presicion    Recall  F1_score\n",
       "0           Logistic Regression  0.946367   0.939638  0.939307  0.938348\n",
       "1         KNeighbors Classifier  0.963333   0.957721  0.958590  0.957880\n",
       "2      Decision Tree Classifier  0.959433   0.951784  0.953068  0.952422\n",
       "3      Random Forest Classifier  0.974900   0.974463  0.965966  0.970063\n",
       "4  Gradient Boosting Classifier  0.969400   0.973523  0.953766  0.962905"
      ]
     },
     "metadata": {},
     "output_type": "display_data"
    }
   ],
   "source": [
    "scores_df = pd.DataFrame(scores)\n",
    "display(scores_df)"
   ]
  }
 ],
 "metadata": {
  "kernelspec": {
   "display_name": "Python 3",
   "language": "python",
   "name": "python3"
  },
  "language_info": {
   "codemirror_mode": {
    "name": "ipython",
    "version": 3
   },
   "file_extension": ".py",
   "mimetype": "text/x-python",
   "name": "python",
   "nbconvert_exporter": "python",
   "pygments_lexer": "ipython3",
   "version": "3.12.2"
  }
 },
 "nbformat": 4,
 "nbformat_minor": 2
}
