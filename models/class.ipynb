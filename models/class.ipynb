{
 "cells": [
  {
   "cell_type": "code",
   "execution_count": 210,
   "metadata": {},
   "outputs": [],
   "source": [
    "import pandas as pd\n",
    "import numpy as np"
   ]
  },
  {
   "cell_type": "code",
   "execution_count": 211,
   "metadata": {},
   "outputs": [],
   "source": [
    "df = pd.read_csv('/Users/leona/OneDrive/Documentos/GitHub/Stellar-Classification/data/star_classification.csv')"
   ]
  },
  {
   "cell_type": "code",
   "execution_count": 212,
   "metadata": {},
   "outputs": [],
   "source": [
    "df.drop(columns=['obj_ID', 'rerun_ID', 'run_ID', 'field_ID', 'spec_obj_ID', 'fiber_ID', 'plate', 'cam_col', 'MJD'], axis=1, inplace=True)"
   ]
  },
  {
   "cell_type": "code",
   "execution_count": 213,
   "metadata": {},
   "outputs": [
    {
     "name": "stdout",
     "output_type": "stream",
     "text": [
      "(100000, 8) (100000,)\n"
     ]
    }
   ],
   "source": [
    "x = df.drop('class', axis=1)\n",
    "y = df['class']\n",
    "print(x.shape, y.shape)"
   ]
  },
  {
   "cell_type": "code",
   "execution_count": 214,
   "metadata": {},
   "outputs": [],
   "source": [
    "from sklearn.preprocessing import LabelEncoder"
   ]
  },
  {
   "cell_type": "code",
   "execution_count": 215,
   "metadata": {},
   "outputs": [],
   "source": [
    "le = LabelEncoder()\n",
    "y = le.fit_transform(y)"
   ]
  },
  {
   "cell_type": "code",
   "execution_count": 216,
   "metadata": {},
   "outputs": [],
   "source": [
    "from sklearn.feature_selection import SelectKBest, f_classif"
   ]
  },
  {
   "cell_type": "code",
   "execution_count": 217,
   "metadata": {},
   "outputs": [
    {
     "name": "stdout",
     "output_type": "stream",
     "text": [
      "Score: [2.19488222e+01 2.17588357e+02 3.04453390e+01 2.59625226e+01\n",
      " 4.58453336e+03 8.28234355e+03 3.23283079e+01 8.34294190e+04]\n",
      "Result of this transformation: [[20.39501   19.16573    0.6347936]\n",
      " [22.58444   21.16812    0.779136 ]\n",
      " [20.60976   19.34857    0.6441945]\n",
      " ...\n",
      " [18.20428   17.69034    0.1433656]\n",
      " [19.91386   19.07254    0.4550396]\n",
      " [20.60115   20.00959    0.5429442]]\n"
     ]
    }
   ],
   "source": [
    "algorithm = SelectKBest(score_func=f_classif, k=3)\n",
    "x_bests = algorithm.fit_transform(x, y)\n",
    "\n",
    "print(f'Score: {algorithm.scores_}')\n",
    "print(f'Result of this transformation: {x_bests}')"
   ]
  },
  {
   "cell_type": "code",
   "execution_count": 218,
   "metadata": {},
   "outputs": [],
   "source": [
    "from sklearn.linear_model import LogisticRegression\n",
    "from sklearn.neighbors import KNeighborsClassifier\n",
    "from sklearn.tree import DecisionTreeClassifier\n",
    "from sklearn.ensemble import RandomForestClassifier\n",
    "from sklearn.model_selection import train_test_split, GridSearchCV, StratifiedKFold\n",
    "from sklearn.metrics import confusion_matrix, recall_score, f1_score, precision_score\n",
    "from sklearn.preprocessing import StandardScaler"
   ]
  },
  {
   "cell_type": "code",
   "execution_count": 219,
   "metadata": {},
   "outputs": [],
   "source": [
    "norm = StandardScaler()\n",
    "x_norm = norm.fit_transform(x_bests)"
   ]
  },
  {
   "cell_type": "code",
   "execution_count": 220,
   "metadata": {},
   "outputs": [],
   "source": [
    "x_train, x_test, y_train, y_test = train_test_split(x_norm, y, test_size=0.30, shuffle=True, random_state=15)"
   ]
  },
  {
   "cell_type": "code",
   "execution_count": 221,
   "metadata": {},
   "outputs": [
    {
     "name": "stdout",
     "output_type": "stream",
     "text": [
      "0.9463666666666667\n"
     ]
    }
   ],
   "source": [
    "logistic = LogisticRegression(max_iter=2000, tol=0.01)\n",
    "logistic.fit(x_train, y_train)\n",
    "\n",
    "accuracy_logistic = logistic.score(x_test, y_test)\n",
    "print(accuracy_logistic)"
   ]
  },
  {
   "cell_type": "code",
   "execution_count": 222,
   "metadata": {},
   "outputs": [
    {
     "name": "stdout",
     "output_type": "stream",
     "text": [
      "[[17102   273   591]\n",
      " [  725  4814     6]\n",
      " [    2    12  6475]]\n"
     ]
    }
   ],
   "source": [
    "prediction_logistic = logistic.predict(x_test)\n",
    "matrix_logistic = confusion_matrix(y_test, prediction_logistic)\n",
    "recall_logistic = recall_score(y_test, prediction_logistic, average='macro')\n",
    "precision_logistic = precision_score(y_test, prediction_logistic, average='macro')\n",
    "f1_logistic = f1_score(y_test, prediction_logistic, average='macro')\n",
    "\n",
    "print(matrix_logistic)"
   ]
  },
  {
   "cell_type": "code",
   "execution_count": 223,
   "metadata": {},
   "outputs": [
    {
     "name": "stdout",
     "output_type": "stream",
     "text": [
      "0.9633333333333334\n"
     ]
    }
   ],
   "source": [
    "neighbors = KNeighborsClassifier()\n",
    "neighbors.fit(x_train, y_train)\n",
    "\n",
    "accuracy_neighbors = neighbors.score(x_test, y_test)\n",
    "print(accuracy_neighbors)"
   ]
  },
  {
   "cell_type": "code",
   "execution_count": 224,
   "metadata": {},
   "outputs": [
    {
     "name": "stdout",
     "output_type": "stream",
     "text": [
      "[[17377   274   315]\n",
      " [  479  5061     5]\n",
      " [   27     0  6462]]\n"
     ]
    }
   ],
   "source": [
    "prediction_neighbors = neighbors.predict(x_test)\n",
    "matrix_neighbors = confusion_matrix(y_test, prediction_neighbors)\n",
    "precision_neighbors = precision_score(y_test, prediction_neighbors, average='macro')\n",
    "recall_neighbors = recall_score(y_test, prediction_neighbors, average='macro')\n",
    "f1_neighbors = f1_score(y_test, prediction_neighbors, average='macro')\n",
    "\n",
    "print(matrix_neighbors)"
   ]
  },
  {
   "cell_type": "code",
   "execution_count": 225,
   "metadata": {},
   "outputs": [
    {
     "name": "stdout",
     "output_type": "stream",
     "text": [
      "0.9598\n"
     ]
    }
   ],
   "source": [
    "tree = DecisionTreeClassifier()\n",
    "tree.fit(x_train, y_train)\n",
    "\n",
    "accuracy_tree = tree.score(x_test, y_test)\n",
    "print(accuracy_tree)"
   ]
  },
  {
   "cell_type": "code",
   "execution_count": 226,
   "metadata": {},
   "outputs": [
    {
     "name": "stdout",
     "output_type": "stream",
     "text": [
      "[[17341   598    27]\n",
      " [  554  4990     1]\n",
      " [   26     0  6463]]\n"
     ]
    }
   ],
   "source": [
    "prediction_tree = tree.predict(x_test)\n",
    "matrix_tree = confusion_matrix(y_test, prediction_tree)\n",
    "precision_tree = precision_score(y_test, prediction_tree, average='macro')\n",
    "recall_tree = recall_score(y_test, prediction_tree, average='macro')\n",
    "f1_tree = f1_score(y_test, prediction_tree, average='macro')\n",
    "\n",
    "print(matrix_tree)"
   ]
  },
  {
   "cell_type": "code",
   "execution_count": 227,
   "metadata": {},
   "outputs": [
    {
     "name": "stdout",
     "output_type": "stream",
     "text": [
      "0.9748333333333333\n"
     ]
    }
   ],
   "source": [
    "random = RandomForestClassifier()\n",
    "random.fit(x_train, y_train)\n",
    "\n",
    "accuracy_random = random.score(x_test, y_test)\n",
    "print(accuracy_random)"
   ]
  },
  {
   "cell_type": "code",
   "execution_count": 228,
   "metadata": {},
   "outputs": [
    {
     "name": "stdout",
     "output_type": "stream",
     "text": [
      "[[17696   247    23]\n",
      " [  478  5066     1]\n",
      " [    6     0  6483]]\n"
     ]
    }
   ],
   "source": [
    "prediction_random = random.predict(x_test)\n",
    "matrix_random = confusion_matrix(y_test, prediction_random)\n",
    "precision_random = precision_score(y_test, prediction_random, average='macro')\n",
    "recall_random = recall_score(y_test, prediction_random, average='macro')\n",
    "f1_random = f1_score(y_test, prediction_random, average='macro')\n",
    "\n",
    "print(matrix_random)"
   ]
  },
  {
   "cell_type": "code",
   "execution_count": 229,
   "metadata": {},
   "outputs": [],
   "source": [
    "scores = {\n",
    "    'Models': ['Logistic Regression', 'KNeighbors Classifier', 'Decision Tree Classifier', 'Random Forest Classifier'],\n",
    "    'Accuracy': [accuracy_logistic, accuracy_neighbors, accuracy_tree, accuracy_random],\n",
    "    'Presicion': [precision_logistic, precision_neighbors, precision_tree, precision_random],\n",
    "    'Recall': [recall_logistic, recall_neighbors, recall_tree, recall_random],\n",
    "    'F1_score': [f1_logistic, f1_neighbors, f1_tree, f1_random]\n",
    "}"
   ]
  },
  {
   "cell_type": "code",
   "execution_count": 230,
   "metadata": {},
   "outputs": [
    {
     "name": "stdout",
     "output_type": "stream",
     "text": [
      "                     Models  Accuracy  Presicion    Recall  F1_score\n",
      "0       Logistic Regression  0.946367   0.939638  0.939307  0.938348\n",
      "1     KNeighbors Classifier  0.963333   0.957721  0.958590  0.957880\n",
      "2  Decision Tree Classifier  0.959800   0.952102  0.953705  0.952899\n",
      "3  Random Forest Classifier  0.974833   0.974400  0.965888  0.969990\n"
     ]
    }
   ],
   "source": [
    "scores_df = pd.DataFrame(scores)\n",
    "print(scores_df)"
   ]
  }
 ],
 "metadata": {
  "kernelspec": {
   "display_name": "Python 3",
   "language": "python",
   "name": "python3"
  },
  "language_info": {
   "codemirror_mode": {
    "name": "ipython",
    "version": 3
   },
   "file_extension": ".py",
   "mimetype": "text/x-python",
   "name": "python",
   "nbconvert_exporter": "python",
   "pygments_lexer": "ipython3",
   "version": "3.12.2"
  }
 },
 "nbformat": 4,
 "nbformat_minor": 2
}
