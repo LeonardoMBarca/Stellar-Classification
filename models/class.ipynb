{
 "cells": [
  {
   "cell_type": "code",
   "execution_count": 88,
   "metadata": {},
   "outputs": [],
   "source": [
    "import pandas as pd\n",
    "import numpy as np"
   ]
  },
  {
   "cell_type": "code",
   "execution_count": 89,
   "metadata": {},
   "outputs": [],
   "source": [
    "df = pd.read_csv('/Users/leona/OneDrive/Documentos/GitHub/Stellar-Classification/data/star_classification.csv')"
   ]
  },
  {
   "cell_type": "code",
   "execution_count": 90,
   "metadata": {},
   "outputs": [],
   "source": [
    "df.drop(columns=['obj_ID', 'rerun_ID', 'run_ID', 'field_ID', 'spec_obj_ID', 'fiber_ID', 'plate', 'cam_col', 'MJD'], axis=1, inplace=True)"
   ]
  },
  {
   "cell_type": "code",
   "execution_count": 91,
   "metadata": {},
   "outputs": [],
   "source": [
    "x = df.drop('class', axis=1)\n",
    "y = df['class']"
   ]
  },
  {
   "cell_type": "code",
   "execution_count": 92,
   "metadata": {},
   "outputs": [],
   "source": [
    "from sklearn.preprocessing import LabelEncoder"
   ]
  },
  {
   "cell_type": "code",
   "execution_count": 93,
   "metadata": {},
   "outputs": [],
   "source": [
    "le = LabelEncoder()\n",
    "y = le.fit_transform(y)"
   ]
  },
  {
   "cell_type": "code",
   "execution_count": 94,
   "metadata": {},
   "outputs": [],
   "source": [
    "from sklearn.linear_model import LogisticRegression\n",
    "from sklearn.neighbors import KNeighborsClassifier\n",
    "from sklearn.tree import DecisionTreeClassifier\n",
    "from sklearn.ensemble import RandomForestClassifier\n",
    "from sklearn.model_selection import train_test_split, GridSearchCV, StratifiedKFold\n",
    "from sklearn.metrics import confusion_matrix\n",
    "from sklearn.preprocessing import StandardScaler"
   ]
  },
  {
   "cell_type": "code",
   "execution_count": 95,
   "metadata": {},
   "outputs": [],
   "source": [
    "norm = StandardScaler()\n",
    "x_norm = norm.fit_transform(x)"
   ]
  },
  {
   "cell_type": "code",
   "execution_count": 96,
   "metadata": {},
   "outputs": [],
   "source": [
    "x_train, x_test, y_train, y_test = train_test_split(x_norm, y, test_size=0.30, shuffle=True, random_state=15)"
   ]
  },
  {
   "cell_type": "code",
   "execution_count": 97,
   "metadata": {},
   "outputs": [
    {
     "name": "stdout",
     "output_type": "stream",
     "text": [
      "0.9518\n"
     ]
    }
   ],
   "source": [
    "logistic = LogisticRegression(max_iter=2000, tol=0.01)\n",
    "logistic.fit(x_train, y_train)\n",
    "\n",
    "accuracy_logistic = logistic.score(x_test, y_test)\n",
    "print(accuracy_logistic)"
   ]
  },
  {
   "cell_type": "code",
   "execution_count": 98,
   "metadata": {},
   "outputs": [
    {
     "name": "stdout",
     "output_type": "stream",
     "text": [
      "0.9425\n"
     ]
    }
   ],
   "source": [
    "neighbors = KNeighborsClassifier()\n",
    "neighbors.fit(x_train, y_train)\n",
    "\n",
    "accuracy_neighbors = neighbors.score(x_test, y_test)\n",
    "print(accuracy_neighbors)"
   ]
  },
  {
   "cell_type": "code",
   "execution_count": 99,
   "metadata": {},
   "outputs": [
    {
     "name": "stdout",
     "output_type": "stream",
     "text": [
      "0.9633333333333334\n"
     ]
    }
   ],
   "source": [
    "tree = DecisionTreeClassifier()\n",
    "tree.fit(x_train, y_train)\n",
    "\n",
    "accuracy_tree = tree.score(x_test, y_test)\n",
    "print(accuracy_tree)"
   ]
  },
  {
   "cell_type": "code",
   "execution_count": 100,
   "metadata": {},
   "outputs": [
    {
     "name": "stdout",
     "output_type": "stream",
     "text": [
      "0.9784666666666667\n"
     ]
    }
   ],
   "source": [
    "random = RandomForestClassifier()\n",
    "random.fit(x_train, y_train)\n",
    "\n",
    "accuracy_random = random.score(x_test, y_test)\n",
    "print(accuracy_random)"
   ]
  },
  {
   "cell_type": "code",
   "execution_count": null,
   "metadata": {},
   "outputs": [],
   "source": [
    "def best_models(a, b):\n",
    "    a = x_norm\n",
    "    b = y\n",
    "    \n",
    "    grid_tree = {\n",
    "        'criterion': [\"gini\", \"entropy\", \"log_loss\"],\n",
    "        'spliter': [\"best\", \"random\"],\n",
    "        'max_depth': np.array([1, 2, 3, 4, 5, 6, 7, 8]),\n",
    "        'min_samples_split': np.array([2, 3, 4, 5, 6, 7 ,8])\n",
    "    }\n",
    "    grid_random = {\n",
    "        'n_estimators': np.array([20, 50, 100, 150]),\n",
    "        'criterion': [\"gini\", \"entropy\", \"log_loss\"],\n",
    "        'max_depth': np.array([None, 1, 2, 3, 4, 5, 6, 7, 8]),\n",
    "        'min_samples_split': np.array([2, 3, 4, 5, 6, 7 ,8])\n",
    "    }\n",
    "    tree = DecisionTreeClassifier()\n",
    "    random = RandomForestClassifier()"
   ]
  }
 ],
 "metadata": {
  "kernelspec": {
   "display_name": "Python 3",
   "language": "python",
   "name": "python3"
  },
  "language_info": {
   "codemirror_mode": {
    "name": "ipython",
    "version": 3
   },
   "file_extension": ".py",
   "mimetype": "text/x-python",
   "name": "python",
   "nbconvert_exporter": "python",
   "pygments_lexer": "ipython3",
   "version": "3.12.2"
  }
 },
 "nbformat": 4,
 "nbformat_minor": 2
}
